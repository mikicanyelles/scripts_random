{
 "cells": [
  {
   "cell_type": "code",
   "execution_count": 11,
   "metadata": {},
   "outputs": [],
   "source": [
    "import paramiko\n",
    "from password import password\n",
    "from yaml import safe_load, dump\n",
    "from time import sleep\n",
    "import os\n",
    "import subprocess as sp"
   ]
  },
  {
   "cell_type": "code",
   "execution_count": 7,
   "metadata": {},
   "outputs": [],
   "source": [
    "host = \"picard.uab.es\"\n",
    "port = 22022\n",
    "username = \"mcanyelles\""
   ]
  },
  {
   "cell_type": "code",
   "execution_count": 8,
   "metadata": {},
   "outputs": [],
   "source": [
    "def set_ssh_connection(host=host, port=port, username=username, password=password):\n",
    "    '''\n",
    "    Function for setting the SSH connection with the server\n",
    "    '''\n",
    "    \n",
    "    ssh = paramiko.SSHClient()\n",
    "    ssh.set_missing_host_key_policy(paramiko.AutoAddPolicy())\n",
    "    ssh.connect(host, port, username, password)\n",
    "    \n",
    "    \n",
    "    return ssh\n",
    "\n",
    "def close_ssh_connection(ssh): ssh.close()"
   ]
  },
  {
   "cell_type": "code",
   "execution_count": 9,
   "metadata": {},
   "outputs": [],
   "source": [
    "def read_IDs(ssh, username=username):\n",
    "    command = \"qstat -u %s\" % username\n",
    "\n",
    "    lines = sp.getoutput('qstat -u mcanyelles').split('\\n')\n",
    "    \n",
    "    if lines != []:\n",
    "        running_IDs = []\n",
    "        for i in lines[5:]:\n",
    "            if i[86:87] == 'R' and 'scan' in i:\n",
    "                running_IDs.append(i[:6])\n",
    "\n",
    "        return running_IDs\n",
    "    \n",
    "    else :\n",
    "        return None"
   ]
  },
  {
   "cell_type": "code",
   "execution_count": 5,
   "metadata": {},
   "outputs": [],
   "source": [
    "def read_paths(ID, ssh):\n",
    "    command = input('qstat -f %s.kirk.uab.es' % ID)\n",
    "    \n",
    "    \n",
    "    \n",
    "    for line in range(len(lines)):\n",
    "        if 'Job_Name' in lines[line]:\n",
    "            job_name = line[15:-1]\n",
    "        if 'init_work_dir' in lines[line]:\n",
    "            work_dir = lines[line][20:-1] + ((lines[line + 1].replace(' ', '')).replace('    \\t', '')).replace('\\n', ''\n",
    "\n",
    "    return job_name, work_dir"
   ]
  },
  {
   "cell_type": "code",
   "execution_count": 10,
   "metadata": {},
   "outputs": [],
   "source": [
    "def print_PES(ID, job_name, work_dir):\n",
    "    \n",
    "    print(ID, ': ', job_name)\n",
    "    os.system('cat %s/PES.plt' % work_dir)\n",
    "    \n"
   ]
  },
  {
   "cell_type": "code",
   "execution_count": null,
   "metadata": {},
   "outputs": [],
   "source": [
    "if running_IDs != None:\n",
    "    for ID in IDs:\n",
    "        job_name, work_dir = read_paths(ID, )"
   ]
  }
 ],
 "metadata": {
  "kernelspec": {
   "display_name": "Python 3.7.5 64-bit ('py_env': conda)",
   "language": "python",
   "name": "python37564bitpyenvconda30b1ae30d5b64d6794e2ee9f050e6b8a"
  },
  "language_info": {
   "codemirror_mode": {
    "name": "ipython",
    "version": 3
   },
   "file_extension": ".py",
   "mimetype": "text/x-python",
   "name": "python",
   "nbconvert_exporter": "python",
   "pygments_lexer": "ipython3",
   "version": "3.7.6"
  }
 },
 "nbformat": 4,
 "nbformat_minor": 4
}
