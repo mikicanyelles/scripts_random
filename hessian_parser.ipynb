{
 "nbformat": 4,
 "nbformat_minor": 2,
 "metadata": {
  "language_info": {
   "name": "python",
   "codemirror_mode": {
    "name": "ipython",
    "version": 3
   },
   "version": "3.7.5-final"
  },
  "orig_nbformat": 2,
  "file_extension": ".py",
  "mimetype": "text/x-python",
  "name": "python",
  "npconvert_exporter": "python",
  "pygments_lexer": "ipython3",
  "version": 3,
  "kernelspec": {
   "name": "python37564bitpyenvconda30b1ae30d5b64d6794e2ee9f050e6b8a",
   "display_name": "Python 3.7.5 64-bit ('py_env': conda)"
  }
 },
 "cells": [
  {
   "cell_type": "code",
   "execution_count": 65,
   "metadata": {},
   "outputs": [],
   "source": [
    "import os\n",
    "import numpy as np"
   ]
  },
  {
   "cell_type": "code",
   "execution_count": 2,
   "metadata": {},
   "outputs": [],
   "source": [
    "filename = 'files/hessian_LTA4H_LTA4_Waddition_ts.out'\n",
    "file = open(filename, 'r').readlines()"
   ]
  },
  {
   "cell_type": "code",
   "execution_count": 3,
   "metadata": {},
   "outputs": [],
   "source": [
    "freq_blocks = []\n",
    "for i in range(len(file)):\n",
    "\n",
    "    if file[i] == '                               Input Coordinates\\n':\n",
    "        struct_i = i+3\n",
    "\n",
    "    elif '...force/symmetry/hybrid.init/=================== Tstep:    ' in file[i]:\n",
    "        struct_f = i - 1\n",
    "\n",
    "    if file[i] == '          harmonic frequencies (cm**-1) and normalised normal coordinates\\n':\n",
    "        freq_i = i + 7\n",
    "     \n",
    "    elif file[i] == '                              thermochemical analysis\\n':\n",
    "        freq_f = i - 6\n",
    "    \n",
    "    if  'frequencies ----' in file[i]:\n",
    "        freq_blocks.append(i)"
   ]
  },
  {
   "cell_type": "code",
   "execution_count": 38,
   "metadata": {},
   "outputs": [],
   "source": [
    "def structure_parser(file, struct_i, struct_f):\n",
    "    '''\n",
    "    This function will take the structure data from the file and storage it as a list of lists.\n",
    "    '''\n",
    "\n",
    "    struct = []\n",
    "    for i in range(struct_i,struct_f+1):\n",
    "        struct.append([int(file[i].split()[0]), file[i].split()[1], float(file[i].split()[3]), float(file[i].split()[4]), float(file[i].split()[5])])\n",
    "\n",
    "    return struct"
   ]
  },
  {
   "cell_type": "code",
   "execution_count": 39,
   "metadata": {},
   "outputs": [],
   "source": [
    "struct = structure_parser(file, struct_i, struct_f)"
   ]
  },
  {
   "cell_type": "code",
   "execution_count": 69,
   "metadata": {},
   "outputs": [],
   "source": [
    "def pdb_creator(struct):\n",
    "    '''\n",
    "    This function takes the information from the struct matrix and gives the corresponding pdb\n",
    "    '''\n",
    "    pdb = open(filename.split('.')[0] + '.pdb', 'w')\n",
    "    len0 = 0; len1 = 0\n",
    "\n",
    "    for i in struct:\n",
    "        if len(str(i[0])) > len0:\n",
    "            len0 = len(str(i[0]))\n",
    "        \n",
    "        if len(str(abs(i[2]))) > len1:\n",
    "            len1 = len(str(abs(i[2])))\n",
    "\n",
    "        if len(str(abs(i[3]))) > len1:\n",
    "            len1 = len(str(abs(i[3])))\n",
    "        \n",
    "        if len(str(abs(i[4]))) > len1:\n",
    "            len1 = len(str(abs(i[4])))\n",
    "\n",
    "    pdb_ =  ''      \n",
    "    for i in range(len(struct)):\n",
    "\n",
    "        pdb_ = pdb_ + 'HETATM '\n",
    "\n",
    "        # Atom number from whole-protein pdb\n",
    "        pdb_ = pdb_ + '{:>4}'.format(i+1) \n",
    "        #('{:>%id}' % len0).format(struct[i][0])\n",
    "\n",
    "        # Atom name (element+number of row)\n",
    "        atmcode = str(struct[i][1]).upper() + str(i+1)\n",
    "        if len(atmcode) <= 3:\n",
    "            pdb_ = pdb_ + '  ' + ('{:<3}'.format(str(struct[i][1]).upper() + str(i+1)))\n",
    "        elif len(atmcode) == 4:\n",
    "            pdb_ = pdb_ + ' ' + ('{:<4}'.format(str(struct[i][1]).upper() + str(i+1)))\n",
    "\n",
    "        # Residue name (3-letters code, so HES by default)\n",
    "        pdb_ = pdb_ + ' QM1 A   1    '\n",
    "\n",
    "        # x\n",
    "        pdb_ = pdb_ + ('{:> %i.3f}' % (len1)).format(struct[i][2])\n",
    "\n",
    "        # y\n",
    "        pdb_ = pdb_ + ('{:> %i.3f}' % (len1+1)).format(struct[i][3])\n",
    "\n",
    "        # z\n",
    "        pdb_ = pdb_ + ('{:> %i.3f}' % (len1+1)).format(struct[i][4])\n",
    "\n",
    "        # 0's\n",
    "        pdb_ = pdb_ + '  0.00  0.00          '\n",
    "\n",
    "        # Element\n",
    "\n",
    "        pdb_ = pdb_ + '{:>2s}'.format(struct[i][1].upper())\n",
    "\n",
    "        pdb_ = pdb_ + '\\n'\n",
    "\n",
    "        #pdb.write(pdb_ + '\\n')\n",
    "\n",
    "    pdb.write(pdb_ + 'END')\n",
    "    pdb.close()"
   ]
  },
  {
   "cell_type": "code",
   "execution_count": 70,
   "metadata": {},
   "outputs": [],
   "source": [
    "pdb_creator(struct)"
   ]
  },
  {
   "cell_type": "code",
   "execution_count": null,
   "metadata": {},
   "outputs": [],
   "source": [
    "def freq_parser(file, freq_i, freq_f, freq_blocks):\n",
    "    "
   ]
  },
  {
   "cell_type": "code",
   "execution_count": 140,
   "metadata": {},
   "outputs": [
    {
     "name": "stdout",
     "output_type": "stream",
     "text": "['78.3708', '96.9805', '102.4995', '107.0127', '115.4106', '119.7723', '121.6526', '129.6944', '136.2332']\ndict_keys(['78.3708', '96.9805', '102.4995', '107.0127', '115.4106', '119.7723', '121.6526', '129.6944', '136.2332'])\nH\n"
    }
   ],
   "source": [
    "freq = dict()\n",
    "n = 0\n",
    "for i in freq_blocks:\n",
    "    freqs = file[i].split()[2:]\n",
    "    for j in freqs:\n",
    "        freq[j] = dict()\n",
    "        for k in range(len(struct)):\n",
    "            freq[j] = struct[k][1].capitalize()\n",
    "\n",
    "        for l in range(i+5, (i+5+3*len(struct))):\n",
    "            #print((l-i-5)%3)\n",
    "            line = file[l].split()\n",
    "            #freq[j].append(l)\n",
    "    if i > 0:\n",
    "        break\n",
    "print(freqs)\n",
    "print(freq.keys())\n",
    "print(freq['78.3708'])"
   ]
  },
  {
   "cell_type": "code",
   "execution_count": 117,
   "metadata": {},
   "outputs": [
    {
     "data": {
      "text/plain": "98038"
     },
     "execution_count": 117,
     "metadata": {},
     "output_type": "execute_result"
    }
   ],
   "source": [
    "i"
   ]
  },
  {
   "cell_type": "code",
   "execution_count": 86,
   "metadata": {},
   "outputs": [
    {
     "data": {
      "text/plain": "['78.3708',\n '96.9805',\n '102.4995',\n '107.0127',\n '115.4106',\n '119.7723',\n '121.6526',\n '129.6944',\n '136.2332']"
     },
     "execution_count": 86,
     "metadata": {},
     "output_type": "execute_result"
    }
   ],
   "source": [
    "guide = file[freq_blocks[0]].split()[2:]\n",
    "guide"
   ]
  },
  {
   "cell_type": "code",
   "execution_count": 95,
   "metadata": {},
   "outputs": [
    {
     "data": {
      "text/plain": "{'78.3708': ['jcva']}"
     },
     "execution_count": 95,
     "metadata": {},
     "output_type": "execute_result"
    }
   ],
   "source": [
    "d = dict()#file[freq_blocks[0]].split()[2:-1][0])\n",
    "d[file[freq_blocks[0]].split()[2]] = []\n",
    "d[file[freq_blocks[0]].split()[2]].append('jcva')\n",
    "d"
   ]
  },
  {
   "cell_type": "code",
   "execution_count": 91,
   "metadata": {},
   "outputs": [
    {
     "name": "stdout",
     "output_type": "stream",
     "text": "C\nH\nH\nC\nH\nH\nC\nO\nO\nC\nC\nN\nC\nC\nN\nH\nH\nH\nH\nH\nC\nH\nH\nC\nH\nH\nC\nO\nO\nH\nC\nC\nN\nC\nC\nN\nH\nH\nH\nH\nH\nC\nC\nC\nO\nO\nH\nH\nH\nH\nC\nH\nH\nC\nO\nO\nZn\nC\nC\nO\nC\nC\nC\nC\nC\nC\nC\nC\nH\nH\nH\nH\nH\nH\nH\nH\nH\nH\nH\nH\nO\nH\nH\nO\nH\nH\n"
    }
   ],
   "source": [
    "for k in range(len(struct)):\n",
    "    print(np.array(struct)[k][1].capitalize())"
   ]
  },
  {
   "cell_type": "code",
   "execution_count": 51,
   "metadata": {},
   "outputs": [],
   "source": [
    "twoD = file[(freq_blocks[0] + 5):(freq_blocks[0] + 5 + len(struct)*3)]"
   ]
  },
  {
   "cell_type": "code",
   "execution_count": 58,
   "metadata": {},
   "outputs": [],
   "source": [
    "for j in range(len(twoD)):\n",
    "    twoD[j] = twoD[j].split()"
   ]
  },
  {
   "cell_type": "code",
   "execution_count": 66,
   "metadata": {},
   "outputs": [],
   "source": [
    "npar = np.array(twoD)"
   ]
  },
  {
   "cell_type": "code",
   "execution_count": 74,
   "metadata": {},
   "outputs": [],
   "source": [
    "n=3; par = npar[n:n+3,3]"
   ]
  },
  {
   "cell_type": "code",
   "execution_count": 82,
   "metadata": {},
   "outputs": [
    {
     "data": {
      "text/plain": "{'78.3708': '', 'C1': ['-0.00523', '-0.00117', '-0.00016']}"
     },
     "execution_count": 82,
     "metadata": {},
     "output_type": "execute_result"
    }
   ],
   "source": [
    "d['C1'] = list(par)\n",
    "d"
   ]
  },
  {
   "cell_type": "markdown",
   "execution_count": null,
   "metadata": {},
   "outputs": [],
   "source": [
    "First step: \n",
    "    Create list w/ the frequencies. It will be useful also for knowing the dict key.\n",
    "Second step:\n",
    "    "
   ]
  }
 ]
}