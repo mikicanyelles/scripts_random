{
 "cells": [
  {
   "cell_type": "code",
   "execution_count": 1,
   "metadata": {},
   "outputs": [],
   "source": [
    "import paramiko\n",
    "from password import password\n",
    "import yaml\n",
    "from time import sleep\n"
   ]
  },
  {
   "cell_type": "code",
   "execution_count": 2,
   "metadata": {},
   "outputs": [],
   "source": [
    "host = \"picard.uab.es\"\n",
    "port = 22022\n",
    "username = \"mcanyelles\""
   ]
  },
  {
   "cell_type": "code",
   "execution_count": 3,
   "metadata": {},
   "outputs": [],
   "source": [
    "def set_ssh_connection(host=host, port=port, username=username, password=password):\n",
    "    '''\n",
    "    Function for setting the SSH connection with the server\n",
    "    '''\n",
    "    \n",
    "    ssh = paramiko.SSHClient()\n",
    "    ssh.set_missing_host_key_policy(paramiko.AutoAddPolicy())\n",
    "    ssh.connect(host, port, username, password)\n",
    "    \n",
    "    \n",
    "    return ssh\n",
    "\n",
    "def close_ssh_connection(ssh): ssh.close()"
   ]
  },
  {
   "cell_type": "code",
   "execution_count": 11,
   "metadata": {},
   "outputs": [],
   "source": [
    "def read_IDs(ssh, username=username):\n",
    "    command = \"qstat -u %s\" % username\n",
    "\n",
    "    stdin, stdout, stderr = ssh.exec_command(command)\n",
    "    lines = stdout.readlines()\n",
    "    if lines != []:\n",
    "        running_IDs = []\n",
    "        waiting_IDs = []\n",
    "        for i in lines[5:]:\n",
    "            if i[86:87] == 'Q':\n",
    "                waiting_IDs.append(i[:6])\n",
    "            elif i[86:87] == 'R':\n",
    "                running_IDs.append(i[:6])\n",
    "\n",
    "        return running_IDs, waiting_IDs\n",
    "    \n",
    "    else :\n",
    "        print('Empty prompt!')\n",
    "        return None, None"
   ]
  },
  {
   "cell_type": "code",
   "execution_count": 5,
   "metadata": {},
   "outputs": [],
   "source": [
    "def read_info_running(ID, ssh):\n",
    "    info = {'ID'            : '',\n",
    "            'job_name'      : '', \n",
    "            'server'        : '', \n",
    "            'queue'         : '', \n",
    "            'node'          : '',\n",
    "            'status'        : '',                       \n",
    "            'max_time'      : '',\n",
    "            'spent_time'    : '',\n",
    "            'starting_time' : '',\n",
    "            'procs'         : '',\n",
    "            'work_dir'      : ''}\n",
    "    \n",
    "    command = 'qstat -f %s.kirk.uab.es' % ID\n",
    "    stdin, stdout, stderr = ssh.exec_command(command)\n",
    "    lines = stdout.readlines()\n",
    "    \n",
    "    for line in lines:\n",
    "        info['ID'] = ID\n",
    "        info['server'] = 'Picard'\n",
    "        if 'Job_Name' in line:\n",
    "            info['job_name'] = line[15:-1]\n",
    "\n",
    "        if 'job_state' in line:\n",
    "            info['status'] = 'Running'\n",
    "\n",
    "        if 'queue' in line:\n",
    "            info['queue'] = line[12:-1]\n",
    "\n",
    "        if 'exec_host' in line:\n",
    "            loc = line.find('.')\n",
    "            info['node'] = line[16:loc]\n",
    "\n",
    "        if 'Resource_List.walltime' in line:\n",
    "            info['max_time'] = line[29:-1]\n",
    "\n",
    "        if 'resources_used.walltime' in line:\n",
    "            info['spent_time'] = line[30:-1]\n",
    "\n",
    "        if 'start_time' in line:\n",
    "            info['starting_time'] = line[17:-1]\n",
    "\n",
    "        if 'Resource_List.nodes' in line:\n",
    "            loc = line.find('ppn')\n",
    "            info['procs'] = line[loc+4:-1]\n",
    "\n",
    "        if 'init_work_dir' in line:\n",
    "            info['work_dir'] = line[20:-1]\n",
    "\n",
    "    return info"
   ]
  },
  {
   "cell_type": "code",
   "execution_count": 6,
   "metadata": {},
   "outputs": [],
   "source": [
    "def read_info_waiting(ID, ssh):\n",
    "    info = {'ID'            : '',\n",
    "        'job_name'      : '', \n",
    "        'server'        : '', \n",
    "        'queue'         : '', \n",
    "        'node'          : '',\n",
    "        'status'        : '',                       \n",
    "        'max_time'      : '',\n",
    "        'spent_time'    : '',\n",
    "        'starting_time' : '',\n",
    "        'procs'         : '',\n",
    "        'work_dir'      : ''}\n",
    "    \n",
    "    command = 'qstat -f %s.kirk.uab.es' % ID\n",
    "    stdin, stdout, stderr = ssh.exec_command(command)\n",
    "    lines = stdout.readlines()\n",
    "\n",
    "    \n",
    "    for line in lines:\n",
    "        info['ID'] = ID\n",
    "        info['server'] = 'Picard'\n",
    "        if 'Job_Name' in line:\n",
    "            info['job_name'] = line[15:-1]\n",
    "\n",
    "        if 'job_state' in line:\n",
    "            info['status'] = 'Waiting'\n",
    "\n",
    "        if 'queue' in line:\n",
    "            info['queue'] = line[12:-1]\n",
    "\n",
    "        if 'Resource_List.walltime' in line:\n",
    "            info['max_time'] = line[29:-1]\n",
    "\n",
    "        if 'Resource_List.nodes' in line:\n",
    "            loc = line.find('ppn')\n",
    "            info['procs'] = line[loc+4:-1]\n",
    "\n",
    "        if 'init_work_dir' in line:\n",
    "            info['work_dir'] = line[20:-1]\n",
    "\n",
    "    return info"
   ]
  },
  {
   "cell_type": "code",
   "execution_count": null,
   "metadata": {},
   "outputs": [],
   "source": []
  },
  {
   "cell_type": "code",
   "execution_count": null,
   "metadata": {},
   "outputs": [],
   "source": []
  },
  {
   "cell_type": "code",
   "execution_count": null,
   "metadata": {},
   "outputs": [],
   "source": []
  },
  {
   "cell_type": "code",
   "execution_count": 10,
   "metadata": {},
   "outputs": [
    {
     "name": "stdout",
     "output_type": "stream",
     "text": [
      "Empty prompt!\n",
      "running:  None\n",
      "waiting:  None\n",
      "Empty output!\n"
     ]
    },
    {
     "ename": "KeyboardInterrupt",
     "evalue": "",
     "output_type": "error",
     "traceback": [
      "\u001b[0;31m---------------------------------------------------------------------------\u001b[0m",
      "\u001b[0;31mKeyboardInterrupt\u001b[0m                         Traceback (most recent call last)",
      "\u001b[0;32m<ipython-input-10-4907c3673f30>\u001b[0m in \u001b[0;36m<module>\u001b[0;34m\u001b[0m\n\u001b[1;32m     49\u001b[0m     \u001b[0mclose_ssh_connection\u001b[0m\u001b[0;34m(\u001b[0m\u001b[0mssh\u001b[0m\u001b[0;34m)\u001b[0m\u001b[0;34m\u001b[0m\u001b[0;34m\u001b[0m\u001b[0m\n\u001b[1;32m     50\u001b[0m \u001b[0;34m\u001b[0m\u001b[0m\n\u001b[0;32m---> 51\u001b[0;31m     \u001b[0msleep\u001b[0m\u001b[0;34m(\u001b[0m\u001b[0;36m900\u001b[0m\u001b[0;34m)\u001b[0m \u001b[0;31m# 15 min\u001b[0m\u001b[0;34m\u001b[0m\u001b[0;34m\u001b[0m\u001b[0m\n\u001b[0m\u001b[1;32m     52\u001b[0m \u001b[0;34m\u001b[0m\u001b[0m\n\u001b[1;32m     53\u001b[0m \u001b[0;34m\u001b[0m\u001b[0m\n",
      "\u001b[0;31mKeyboardInterrupt\u001b[0m: "
     ]
    }
   ],
   "source": [
    "db = dict()\n",
    "\n",
    "try : \n",
    "    del prev_running_IDs\n",
    "    del prev_waiting_IDs\n",
    "except NameError:\n",
    "    pass\n",
    "\n",
    "while True:\n",
    "    ssh = set_ssh_connection()\n",
    "\n",
    "    running_IDs, waiting_IDs = read_IDs(ssh)\n",
    "    print('running: ', running_IDs)\n",
    "    print('waiting: ', waiting_IDs)\n",
    "    \n",
    "    if running_IDs != None and waiting_IDs != None:\n",
    "        for ID in waiting_IDs:\n",
    "            try: \n",
    "                if ID not in prev_waiting_IDs:\n",
    "                    db[ID] = read_info_waiting(ID, ssh) \n",
    "                else :\n",
    "                    print('avoided!')\n",
    "            except NameError:\n",
    "                db[ID] = read_info_waiting(ID, ssh)\n",
    "\n",
    "\n",
    "        try :\n",
    "            for ID in running_IDs:\n",
    "                if ID in prev_running_IDs:\n",
    "                    db[ID] = read_info_running(ID, ssh)\n",
    "                else :\n",
    "                    db[ID]['status'] = 'Completed'\n",
    "        except NameError:\n",
    "            for ID in running_IDs:\n",
    "                db[ID] = read_info_running(ID, ssh)\n",
    "\n",
    "\n",
    "        #dump_to_YAML\n",
    "\n",
    "        prev_running_IDs = running_IDs\n",
    "        prev_waiting_IDs = waiting_IDs\n",
    "\n",
    "        print('DB updated!')\n",
    "\n",
    "    else :\n",
    "        pass\n",
    "\n",
    "    close_ssh_connection(ssh)\n",
    "   \n",
    "    sleep(900) # 15 min = 900 s\n",
    "    \n",
    "    \n"
   ]
  },
  {
   "cell_type": "code",
   "execution_count": null,
   "metadata": {},
   "outputs": [],
   "source": [
    "lines"
   ]
  },
  {
   "cell_type": "code",
   "execution_count": null,
   "metadata": {},
   "outputs": [],
   "source": [
    "db"
   ]
  },
  {
   "cell_type": "code",
   "execution_count": null,
   "metadata": {},
   "outputs": [],
   "source": []
  }
 ],
 "metadata": {
  "kernelspec": {
   "display_name": "Python 3.7.5 64-bit ('py_env': conda)",
   "language": "python",
   "name": "python37564bitpyenvconda30b1ae30d5b64d6794e2ee9f050e6b8a"
  },
  "language_info": {
   "codemirror_mode": {
    "name": "ipython",
    "version": 3
   },
   "file_extension": ".py",
   "mimetype": "text/x-python",
   "name": "python",
   "nbconvert_exporter": "python",
   "pygments_lexer": "ipython3",
   "version": "3.7.6"
  }
 },
 "nbformat": 4,
 "nbformat_minor": 4
}
