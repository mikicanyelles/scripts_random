{
 "nbformat": 4,
 "nbformat_minor": 2,
 "metadata": {
  "language_info": {
   "name": "python",
   "codemirror_mode": {
    "name": "ipython",
    "version": 3
   },
   "version": "3.7.5-final"
  },
  "orig_nbformat": 2,
  "file_extension": ".py",
  "mimetype": "text/x-python",
  "name": "python",
  "npconvert_exporter": "python",
  "pygments_lexer": "ipython3",
  "version": 3,
  "kernelspec": {
   "name": "python37564bitpyenvconda30b1ae30d5b64d6794e2ee9f050e6b8a",
   "display_name": "Python 3.7.5 64-bit ('py_env': conda)"
  }
 },
 "cells": [
  {
   "cell_type": "code",
   "execution_count": 1,
   "metadata": {},
   "outputs": [],
   "source": [
    "import os\n",
    "import numpy as np"
   ]
  },
  {
   "cell_type": "code",
   "execution_count": 2,
   "metadata": {},
   "outputs": [],
   "source": [
    "filename = 'files/hessian_LTA4H_LTA4_Waddition_ts.out'\n",
    "file = open(filename, 'r').readlines()"
   ]
  },
  {
   "cell_type": "code",
   "execution_count": 3,
   "metadata": {},
   "outputs": [],
   "source": [
    "freq_blocks = []\n",
    "for i in range(len(file)):\n",
    "\n",
    "    if file[i] == '                               Input Coordinates\\n':\n",
    "        struct_i = i+3\n",
    "\n",
    "    elif '...force/symmetry/hybrid.init/=================== Tstep:    ' in file[i]:\n",
    "        struct_f = i - 1\n",
    "\n",
    "    if file[i] == '          harmonic frequencies (cm**-1) and normalised normal coordinates\\n':\n",
    "        freq_i = i + 7\n",
    "     \n",
    "    elif file[i] == '                              thermochemical analysis\\n':\n",
    "        freq_f = i - 6\n",
    "    \n",
    "    if  'frequencies ----' in file[i]:\n",
    "        freq_blocks.append(i)"
   ]
  },
  {
   "cell_type": "code",
   "execution_count": 4,
   "metadata": {},
   "outputs": [],
   "source": [
    "def structure_parser(file, struct_i, struct_f):\n",
    "    '''\n",
    "    This function will take the structure data from the file and storage it as a list of lists.\n",
    "    '''\n",
    "\n",
    "    struct = []\n",
    "    for i in range(struct_i,struct_f+1):\n",
    "        struct.append([int(file[i].split()[0]), file[i].split()[1], round(float(file[i].split()[3]), 3), round(float(file[i].split()[4]),3), round(float(file[i].split()[5]),3)])\n",
    "\n",
    "    return struct"
   ]
  },
  {
   "cell_type": "code",
   "execution_count": 7,
   "metadata": {},
   "outputs": [
    {
     "name": "stdout",
     "output_type": "stream",
     "text": "[[4210, 'c', 67.55, 99.619, 90.801], [4211, 'h', 66.417, 98.538, 89.453], [4212, 'h', 67.746, 101.541, 90.073], [4213, 'c', 70.182, 98.391, 91.043], [4214, 'h', 70.168, 96.842, 92.42], [4215, 'h', 70.627, 97.452, 89.254], [4216, 'c', 72.426, 100.144, 91.677], [4217, 'o', 72.004, 102.185, 92.842], [4218, 'o', 74.603, 99.387, 91.028], [4564, 'c', 66.847, 113.866, 85.328], [4565, 'c', 69.433, 112.787, 85.539], [4566, 'n', 71.391, 113.351, 83.895], [4567, 'c', 70.433, 111.147, 87.276], [4568, 'c', 73.46, 112.048, 84.687], [4569, 'n', 72.927, 110.682, 86.717], [4572, 'h', 66.861, 115.753, 84.487], [4573, 'h', 66.018, 113.993, 87.211], [4574, 'h', 71.268, 114.754, 82.558], [4575, 'h', 69.529, 110.344, 88.917], [4576, 'h', 75.284, 112.119, 83.774], [4581, 'c', 61.295, 107.51, 90.871], [4582, 'h', 59.388, 108.27, 90.656], [4583, 'h', 61.115, 105.624, 91.69], [4584, 'c', 62.763, 109.265, 92.684], [4585, 'h', 62.162, 111.222, 92.516], [4586, 'h', 62.316, 108.679, 94.623], [4587, 'c', 65.61, 109.229, 92.456], [4588, 'o', 66.915, 111.132, 92.335], [4589, 'o', 66.539, 106.882, 92.429], [4590, 'h', 68.435, 106.962, 92.254], [4627, 'c', 67.64, 100.9, 84.864], [4628, 'c', 69.954, 102.489, 85.219], [4629, 'n', 72.319, 101.845, 84.283], [4630, 'c', 70.408, 104.421, 86.889], [4631, 'c', 74.042, 103.409, 85.345], [4632, 'n', 72.959, 104.981, 86.964], [4635, 'h', 66.054, 101.693, 85.923], [4636, 'h', 68.008, 99.027, 85.672], [4637, 'h', 72.653, 100.742, 82.737], [4638, 'h', 69.059, 105.415, 88.048], [4639, 'h', 76.038, 103.329, 84.945], [4943, 'c', 82.185, 107.928, 82.777], [4944, 'c', 82.313, 106.421, 85.256], [4945, 'c', 79.861, 106.051, 86.766], [4946, 'o', 78.11, 107.711, 86.582], [4947, 'o', 79.761, 104.133, 88.153], [4950, 'h', 84.085, 107.963, 81.925], [4951, 'h', 81.689, 109.892, 83.208], [4952, 'h', 83.145, 104.538, 85.007], [4953, 'h', 83.61, 107.394, 86.554], [5845, 'c', 93.583, 103.977, 107.946], [5846, 'h', 95.172, 104.133, 109.256], [5847, 'h', 92.207, 105.445, 108.457], [5848, 'c', 92.375, 101.389, 108.418], [5849, 'o', 90.825, 100.435, 106.792], [5850, 'o', 92.864, 100.312, 110.443], [9687, 'zn', 75.087, 107.982, 89.021], [9693, 'c', 73.698, 113.014, 94.128], [9694, 'c', 76.158, 111.496, 93.711], [9695, 'o', 76.323, 110.577, 91.255], [9696, 'c', 76.727, 109.227, 95.372], [9697, 'c', 78.771, 109.071, 96.899], [9698, 'c', 79.991, 106.751, 97.621], [9699, 'c', 82.244, 106.776, 98.877], [9700, 'c', 83.924, 104.686, 99.155], [9701, 'c', 86.289, 105.003, 100.142], [9702, 'c', 88.307, 103.157, 100.293], [9703, 'c', 88.266, 100.683, 98.918], [9715, 'h', 73.315, 113.994, 92.345], [9716, 'h', 72.054, 111.829, 94.564], [9717, 'h', 77.703, 112.873, 94.034], [9718, 'h', 75.741, 107.496, 94.851], [9719, 'h', 79.791, 110.806, 97.368], [9720, 'h', 79.248, 104.956, 96.921], [9721, 'h', 82.954, 108.594, 99.542], [9722, 'h', 83.293, 102.879, 98.391], [9723, 'h', 86.78, 106.884, 100.828], [9724, 'h', 90.182, 104.016, 100.314], [9725, 'h', 86.629, 99.544, 99.511], [9727, 'h', 89.976, 99.595, 99.353], [9740, 'o', 71.5, 107.106, 92.126], [9741, 'h', 71.991, 105.293, 92.395], [9742, 'h', 71.685, 107.947, 93.766], [10203, 'o', 88.306, 102.53, 103.612], [10204, 'h', 89.748, 101.638, 104.883], [10205, 'h', 86.811, 101.448, 103.811]]\n"
    }
   ],
   "source": [
    "struct = structure_parser(file, struct_i, struct_f)\n",
    "print(struct)"
   ]
  },
  {
   "cell_type": "code",
   "execution_count": 21,
   "metadata": {},
   "outputs": [
    {
     "name": "stdout",
     "output_type": "stream",
     "text": "HETATM  4210   C1 QM1 A 1          67.550   99.619   90.801  0.00  0.00       C\nHETATM  4211   H2 QM1 A 1          66.417   98.538   89.453  0.00  0.00       H\nHETATM  4212   H3 QM1 A 1          67.746  101.541   90.073  0.00  0.00       H\nHETATM  4213   C4 QM1 A 1          70.182   98.391   91.043  0.00  0.00       C\nHETATM  4214   H5 QM1 A 1          70.168   96.842   92.420  0.00  0.00       H\nHETATM  4215   H6 QM1 A 1          70.627   97.452   89.254  0.00  0.00       H\nHETATM  4216   C7 QM1 A 1          72.426  100.144   91.677  0.00  0.00       C\nHETATM  4217   O8 QM1 A 1          72.004  102.185   92.842  0.00  0.00       O\nHETATM  4218   O9 QM1 A 1          74.603   99.387   91.028  0.00  0.00       O\nHETATM  4564  C10 QM1 A 1          66.847  113.866   85.328  0.00  0.00       C\nHETATM  4565  C11 QM1 A 1          69.433  112.787   85.539  0.00  0.00       C\nHETATM  4566  N12 QM1 A 1          71.391  113.351   83.895  0.00  0.00       N\nHETATM  4567  C13 QM1 A 1          70.433  111.147   87.276  0.00  0.00       C\nHETATM  4568  C14 QM1 A 1          73.460  112.048   84.687  0.00  0.00       C\nHETATM  4569  N15 QM1 A 1          72.927  110.682   86.717  0.00  0.00       N\nHETATM  4572  H16 QM1 A 1          66.861  115.753   84.487  0.00  0.00       H\nHETATM  4573  H17 QM1 A 1          66.018  113.993   87.211  0.00  0.00       H\nHETATM  4574  H18 QM1 A 1          71.268  114.754   82.558  0.00  0.00       H\nHETATM  4575  H19 QM1 A 1          69.529  110.344   88.917  0.00  0.00       H\nHETATM  4576  H20 QM1 A 1          75.284  112.119   83.774  0.00  0.00       H\nHETATM  4581  C21 QM1 A 1          61.295  107.510   90.871  0.00  0.00       C\nHETATM  4582  H22 QM1 A 1          59.388  108.270   90.656  0.00  0.00       H\nHETATM  4583  H23 QM1 A 1          61.115  105.624   91.690  0.00  0.00       H\nHETATM  4584  C24 QM1 A 1          62.763  109.265   92.684  0.00  0.00       C\nHETATM  4585  H25 QM1 A 1          62.162  111.222   92.516  0.00  0.00       H\nHETATM  4586  H26 QM1 A 1          62.316  108.679   94.623  0.00  0.00       H\nHETATM  4587  C27 QM1 A 1          65.610  109.229   92.456  0.00  0.00       C\nHETATM  4588  O28 QM1 A 1          66.915  111.132   92.335  0.00  0.00       O\nHETATM  4589  O29 QM1 A 1          66.539  106.882   92.429  0.00  0.00       O\nHETATM  4590  H30 QM1 A 1          68.435  106.962   92.254  0.00  0.00       H\nHETATM  4627  C31 QM1 A 1          67.640  100.900   84.864  0.00  0.00       C\nHETATM  4628  C32 QM1 A 1          69.954  102.489   85.219  0.00  0.00       C\nHETATM  4629  N33 QM1 A 1          72.319  101.845   84.283  0.00  0.00       N\nHETATM  4630  C34 QM1 A 1          70.408  104.421   86.889  0.00  0.00       C\nHETATM  4631  C35 QM1 A 1          74.042  103.409   85.345  0.00  0.00       C\nHETATM  4632  N36 QM1 A 1          72.959  104.981   86.964  0.00  0.00       N\nHETATM  4635  H37 QM1 A 1          66.054  101.693   85.923  0.00  0.00       H\nHETATM  4636  H38 QM1 A 1          68.008   99.027   85.672  0.00  0.00       H\nHETATM  4637  H39 QM1 A 1          72.653  100.742   82.737  0.00  0.00       H\nHETATM  4638  H40 QM1 A 1          69.059  105.415   88.048  0.00  0.00       H\nHETATM  4639  H41 QM1 A 1          76.038  103.329   84.945  0.00  0.00       H\nHETATM  4943  C42 QM1 A 1          82.185  107.928   82.777  0.00  0.00       C\nHETATM  4944  C43 QM1 A 1          82.313  106.421   85.256  0.00  0.00       C\nHETATM  4945  C44 QM1 A 1          79.861  106.051   86.766  0.00  0.00       C\nHETATM  4946  O45 QM1 A 1          78.110  107.711   86.582  0.00  0.00       O\nHETATM  4947  O46 QM1 A 1          79.761  104.133   88.153  0.00  0.00       O\nHETATM  4950  H47 QM1 A 1          84.085  107.963   81.925  0.00  0.00       H\nHETATM  4951  H48 QM1 A 1          81.689  109.892   83.208  0.00  0.00       H\nHETATM  4952  H49 QM1 A 1          83.145  104.538   85.007  0.00  0.00       H\nHETATM  4953  H50 QM1 A 1          83.610  107.394   86.554  0.00  0.00       H\nHETATM  5845  C51 QM1 A 1          93.583  103.977  107.946  0.00  0.00       C\nHETATM  5846  H52 QM1 A 1          95.172  104.133  109.256  0.00  0.00       H\nHETATM  5847  H53 QM1 A 1          92.207  105.445  108.457  0.00  0.00       H\nHETATM  5848  C54 QM1 A 1          92.375  101.389  108.418  0.00  0.00       C\nHETATM  5849  O55 QM1 A 1          90.825  100.435  106.792  0.00  0.00       O\nHETATM  5850  O56 QM1 A 1          92.864  100.312  110.443  0.00  0.00       O\nHETATM  9687  Z57 QM1 A 1          75.087  107.982   89.021  0.00  0.00      ZN\nHETATM  9693  C58 QM1 A 1          73.698  113.014   94.128  0.00  0.00       C\nHETATM  9694  C59 QM1 A 1          76.158  111.496   93.711  0.00  0.00       C\nHETATM  9695  O60 QM1 A 1          76.323  110.577   91.255  0.00  0.00       O\nHETATM  9696  C61 QM1 A 1          76.727  109.227   95.372  0.00  0.00       C\nHETATM  9697  C62 QM1 A 1          78.771  109.071   96.899  0.00  0.00       C\nHETATM  9698  C63 QM1 A 1          79.991  106.751   97.621  0.00  0.00       C\nHETATM  9699  C64 QM1 A 1          82.244  106.776   98.877  0.00  0.00       C\nHETATM  9700  C65 QM1 A 1          83.924  104.686   99.155  0.00  0.00       C\nHETATM  9701  C66 QM1 A 1          86.289  105.003  100.142  0.00  0.00       C\nHETATM  9702  C67 QM1 A 1          88.307  103.157  100.293  0.00  0.00       C\nHETATM  9703  C68 QM1 A 1          88.266  100.683   98.918  0.00  0.00       C\nHETATM  9715  H69 QM1 A 1          73.315  113.994   92.345  0.00  0.00       H\nHETATM  9716  H70 QM1 A 1          72.054  111.829   94.564  0.00  0.00       H\nHETATM  9717  H71 QM1 A 1          77.703  112.873   94.034  0.00  0.00       H\nHETATM  9718  H72 QM1 A 1          75.741  107.496   94.851  0.00  0.00       H\nHETATM  9719  H73 QM1 A 1          79.791  110.806   97.368  0.00  0.00       H\nHETATM  9720  H74 QM1 A 1          79.248  104.956   96.921  0.00  0.00       H\nHETATM  9721  H75 QM1 A 1          82.954  108.594   99.542  0.00  0.00       H\nHETATM  9722  H76 QM1 A 1          83.293  102.879   98.391  0.00  0.00       H\nHETATM  9723  H77 QM1 A 1          86.780  106.884  100.828  0.00  0.00       H\nHETATM  9724  H78 QM1 A 1          90.182  104.016  100.314  0.00  0.00       H\nHETATM  9725  H79 QM1 A 1          86.629   99.544   99.511  0.00  0.00       H\nHETATM  9727  H80 QM1 A 1          89.976   99.595   99.353  0.00  0.00       H\nHETATM  9740  O81 QM1 A 1          71.500  107.106   92.126  0.00  0.00       O\nHETATM  9741  H82 QM1 A 1          71.991  105.293   92.395  0.00  0.00       H\nHETATM  9742  H83 QM1 A 1          71.685  107.947   93.766  0.00  0.00       H\nHETATM 10203  O84 QM1 A 1          88.306  102.530  103.612  0.00  0.00       O\nHETATM 10204  H85 QM1 A 1          89.748  101.638  104.883  0.00  0.00       H\nHETATM 10205  H86 QM1 A 1          86.811  101.448  103.811  0.00  0.00       H\nEND\n"
    }
   ],
   "source": [
    "def pdb_creator(struct):\n",
    "    len0 = 0; len1 = 0\n",
    "\n",
    "    for i in struct:\n",
    "        if len(str(i[0])) > len0:\n",
    "            len0 = len(str(i[0]))\n",
    "        \n",
    "        if len(str(abs(i[2]))) > len1:\n",
    "            len1 = len(str(abs(i[2])))\n",
    "\n",
    "        if len(str(abs(i[3]))) > len1:\n",
    "            len1 = len(str(abs(i[3])))\n",
    "        \n",
    "        if len(str(abs(i[4]))) > len1:\n",
    "            len1 = len(str(abs(i[4])))\n",
    "\n",
    "    pdb_ =  ''      \n",
    "    for i in range(len(struct)):\n",
    "\n",
    "        pdb_ = pdb_ + 'HETATM '\n",
    "\n",
    "        # Atom number from whole-protein pdb\n",
    "        pdb_ = pdb_ + ('{:>%id}' % len0).format(struct[i][0])\n",
    "\n",
    "        # Atom name (element+number of row)\n",
    "        pdb_ = pdb_ + ' ' + ('{:>4}'.format(str(struct[i][1])[0].upper() + str(i+1)))\n",
    "\n",
    "        # Residue name (3-letters code, so HES by default)\n",
    "        pdb_ = pdb_ + ' QM1 A 1       '\n",
    "\n",
    "        # x\n",
    "        pdb_ = pdb_ + ('{:> %i.3f}' % (len1+2)).format(struct[i][2])\n",
    "\n",
    "        # y\n",
    "        pdb_ = pdb_ + ('{:> %i.3f}' % (len1+2)).format(struct[i][3])\n",
    "\n",
    "        # z\n",
    "        pdb_ = pdb_ + ('{:> %i.3f}' % (len1+2)).format(struct[i][4])\n",
    "\n",
    "        # 0's\n",
    "        pdb_ = pdb_ + '  0.00  0.00      '\n",
    "\n",
    "        # Element\n",
    "\n",
    "        pdb_ = pdb_ + '{:>2s}'.format(struct[i][1].upper())\n",
    "\n",
    "        pdb_ = pdb_ + '\\n'\n",
    "    \n",
    "    pdb_ = pdb_ + 'END'\n",
    "    return pdb_\n",
    "\n",
    "print(pdb_creator(struct))"
   ]
  },
  {
   "cell_type": "code",
   "execution_count": 68,
   "metadata": {},
   "outputs": [
    {
     "data": {
      "text/plain": "86"
     },
     "execution_count": 68,
     "metadata": {},
     "output_type": "execute_result"
    }
   ],
   "source": [
    "len(struct)"
   ]
  },
  {
   "cell_type": "code",
   "execution_count": 91,
   "metadata": {},
   "outputs": [
    {
     "name": "stdout",
     "output_type": "stream",
     "text": "0\n85\nATOM   4210  C1  HES   99.618833  90.800518  90.800518 0.00 0.00  C\nATOM  10205 H86  HES  101.447816 103.810965 103.810965 0.00 0.00  H\n\n"
    }
   ],
   "source": [
    "#for i in range(len(struct)):\n",
    "l = [0,85]\n",
    "pdb_ = ''\n",
    "for i in l:\n",
    "    print(i)\n",
    "    pdb_ = pdb_ + 'ATOM  '\n",
    "\n",
    "    # Atom number from whole-protein pdb\n",
    "    pdb_ = pdb_ + ('{:>%id}' % len0).format(struct[i][0])\n",
    "\n",
    "    # Atom name (element+number of row)\n",
    "    pdb_ = pdb_ + ' ' + ('{:^4}'.format(str(struct[i][1])[0].capitalize() + str(i+1)))\n",
    "\n",
    "    # Residue name (3-letters code, so HES by default)\n",
    "    pdb_ = pdb_ + ' HES '\n",
    "\n",
    "    # x\n",
    "    pdb_ = pdb_ + ('{: %if}' % (len1+1)).format(struct[i][3])\n",
    "\n",
    "    # y\n",
    "    pdb_ = pdb_ + ('{: %if}' % (len1+1)).format(struct[i][4])\n",
    "\n",
    "    # z\n",
    "    pdb_ = pdb_ + ('{: %if}' % (len1+1)).format(struct[i][4])\n",
    "\n",
    "    # 0's\n",
    "    pdb_ = pdb_ + ' 0.00 0.00 '\n",
    "\n",
    "    # Element\n",
    "\n",
    "    pdb_ = pdb_ + '{:>2s}'.format(struct[i][1].capitalize())\n",
    "\n",
    "    pdb_ = pdb_ + '\\n'\n",
    "\n",
    "\n",
    "#########\n",
    "\n",
    "#pdb_ = pdb_ + '\\nATOM  '\n",
    "\n",
    "#for j in range(len0-len(str(struct[i_][0]))):\n",
    "#    pdb_ = pdb_ + ' '\n",
    "        \n",
    "#pdb_ = pdb_ + str(struct[i_][0])\n",
    "\n",
    "print(pdb_)"
   ]
  },
  {
   "cell_type": "code",
   "execution_count": null,
   "metadata": {},
   "outputs": [],
   "source": [
    "ATOM      1  N   PRO A   1       8.316  21.206  21.530  1.00 17.44           N\n"
   ]
  }
 ]
}